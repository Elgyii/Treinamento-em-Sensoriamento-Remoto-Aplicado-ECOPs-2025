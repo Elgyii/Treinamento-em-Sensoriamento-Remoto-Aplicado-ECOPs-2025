{
 "cells": [
  {
   "cell_type": "markdown",
   "id": "d793b6c7-6705-464c-ad93-50e81df8dff1",
   "metadata": {},
   "source": [
    "# Introdução ao Sensoriamento Remoto Aplicado à Gestão de Recursos Marinhos\n",
    "\n",
    "## Modulo 1 D1\n",
    "### Introdução a Ferramentas Básicas\n",
    "\n",
    "_**Autores:** Eligio Maure_\n",
    "\n",
    "### Resumo\n",
    "\n",
    "Este tutorial introduz, passo a passo, os ambientes de trabalho em Python e as bibliotecas científicas disponíveis para obter e analisar dados de satélite. \n",
    "\n",
    "1. **Ambiente de Trabalho**\n",
    "\t- [Conda](https://docs.conda.io/projects/conda/en/latest/user-guide/install/index.html) – ambientes locais isolados e reprodutíveis. **Ideal para projetos complexos com várias dependências.**\n",
    "\t- [Miniforge](https://github.com/conda-forge/miniforge) – distribuição minimalista, rápida e leve do `Conda`. **Oferece maior controlo do que instalar.**\n",
    "\t- [Google Colab](https://colab.google/) – sem instalação e ideal para iniciantes. **Excelente para experimentar rapidamente.**\n",
    "\t- [Visual Studio Code](https://code.visualstudio.com/) – flexível, integração com Git e várias extensões. **Recomendado como ambiente de trabalho.**\n",
    "\n",
    "2. **Bibliotecas Científicas**\n",
    "\t- [numpy](https://numpy.org/) – operações numéricas e matemáticas\n",
    "\t- [pandas](https://pandas.pydata.org/) – manipulação de tabelas\n",
    "\t- [xarray](https://docs.xarray.dev/en/stable/) – dados multidimensionais (NetCDF, HDF)\n",
    "\t- [matplotlib](https://matplotlib.org/) – visualizações básicas (gráficos, mapas)\n",
    "\t- [cartopy](https://scitools.org.uk/cartopy/docs/latest/) – criação de mapas\n",
    "\t- [scipy](https://scipy.org/) – estatística e funções científicas adicionais\n",
    "\t- [rasterio](https://rasterio.readthedocs.io/en/stable/) – leitura/manipulação de dados geoespaciais (GeoTIFFs)\n",
    "\t- [requests](https://requests.readthedocs.io/en/latest/) – acesso a dados via HTTP/REST (NASA, Copernicus, JAXA)\n",
    "\n",
    "Estas ferramentas combrem\n",
    "- Núcleo Científico (`numpy/pandas/xarray/matplotlib/cartopy`)\n",
    "- Analítico (`scipy`)\n",
    "- Geoespacial (`rasterio`)\n",
    "- Acesso aos dados (`requests`)"
   ]
  },
  {
   "cell_type": "markdown",
   "id": "7dbf3ec6",
   "metadata": {},
   "source": [
    "## Objetivos de Aprendizagem\n",
    "Ao terminar este notebook, você será capaz de:\n",
    "* Criar um ambiente de trabalho em Conda ou Google Colab\n",
    "* Instalar bibliotecas científicas básicas para análise de dados\n",
    "* Utilizar funcionalidades básicas dessas bibliotecas em Python\n",
    "\n",
    "## Conteúdos\n",
    "1. [Configuração do Ambiente](#Configuração-do-Ambiente)\n",
    "2. [Importar Bibliotecas](#Importar-Bibliotecas)\n"
   ]
  },
  {
   "cell_type": "markdown",
   "id": "cc236610",
   "metadata": {},
   "source": [
    "## Configuração do Ambiente\n",
    "\n",
    "Existem muitas formas de configurar um ambiente `Python`. Neste exercicio, vamos nos focar em duas opções principais:\n",
    "### (1) **Instalação Local**\n",
    "<!-- Download local -->\n",
    "<div style=\"display: flex; align-items: center;\">\n",
    "\t<a href=\"https://raw.githubusercontent.com/elgyii/SEU_REPO/main/tutorial_modulo1d1.ipynb\" download>\n",
    "\t\t<img src=\"http://yyahn.com/netsci-course/images/download_icon.png\"\n",
    "\t\t\t\t\tstyle=\"vertical-align: -8px; margin-right: 10px;\" />\n",
    "\t\t<strong>Baixar o notebook</strong> (para uso local com Conda/VSCode)\n",
    "\t</a>\n",
    "</div>\n",
    "\n",
    "Esta instalação tambem nos oferece varias alternativas, mas vamos seguir as duas abaixo:\n",
    "### (a) Conda oficial (Anaconda/Miniconda)\n",
    "- Ocupa mais espaço e pre-instala muitas bibliotecas científicas oferecendo maior funcionalidade de imediato\n",
    "- Melhor opção se não se sente confortável com o terminal uma vez que já vem com GUI (Anaconda Navigator)\n",
    "- Instalação: [Conda docs](https://docs.conda.io/projects/conda/en/latest/user-guide/install/index.html)  \n",
    "- Depois de instalar, abra o `Anaconda Prompt`\n",
    "- Criação de ambiente:\n",
    "```bash\n",
    "conda create -n tsr2025 python=3.11 -y \n",
    "conda activate tsr2025\n",
    "conda install numpy pandas xarray matplotlib cartopy scipy rasterio requests ipykernel -c conda-forge -y\n"
   ]
  },
  {
   "cell_type": "markdown",
   "id": "d1733cac",
   "metadata": {},
   "source": [
    "### (b) Miniforge (recomendado)\n",
    "- Distribuição minimalista, rápida e leve\n",
    "- Usa conda-forge como canal padrão (mais atualizado e estável para bibliotecas científicas)\n",
    "- Instalação: [Miniforge](https://github.com/conda-forge/miniforge)\n",
    "- Depois de instalar, abra o `Miniforge Prompt`\n",
    "- Criação de ambiente (idêntico ao Conda):\n",
    "```bash\n",
    "conda create -n tsr2025 python=3.11 -y\n",
    "conda activate tsr2025\n",
    "conda install numpy pandas xarray matplotlib cartopy scipy rasterio requests ipykernel -c conda-forge -y\n",
    "```"
   ]
  },
  {
   "cell_type": "markdown",
   "id": "f527a3cc",
   "metadata": {},
   "source": [
    "<div class=\"alert alert-info\" role=\"alert\">\n",
    "💡 Nota (Windows): caso os comandos conda/mamba não funcionem diretamente, adicione manualmente a pasta:\n",
    "<pre><code>C:\\Users\\{user}\\miniforge3\\condabin\\</code></pre>ao PATH do sistema.\n",
    "</div>\n",
    "\n",
    "[⬆️ Voltar ao topo](#Objetivos-de-Aprendizagem)"
   ]
  },
  {
   "cell_type": "markdown",
   "id": "943bb8ab",
   "metadata": {},
   "source": [
    "### (2) **Instalação no Google Colab (nuvem)**\n",
    "<!-- Abrir no Colab -->\n",
    "<div style=\"display: flex; align-items: center;\">\n",
    "\t<a target=\"_blank\"\n",
    "\t\t\thref=\"https://colab.research.google.com/github/Elgyii/Treinamento-em-Sensoriamento-Remoto-Aplicado-ECOPs-2025/blob/main/modulo1d1.ipynb\">\n",
    "\t\t<img src=\"https://www.tensorflow.org/images/colab_logo_32px.png\"\n",
    "\t\t\t\t\tstyle=\"vertical-align: -8px; margin-right: 10px;\" />\n",
    "\t\t<strong>Usar no Google Colab</strong> (online, sem instalação)\n",
    "\t</a>\n",
    "</div>"
   ]
  },
  {
   "cell_type": "markdown",
   "id": "249edd34-91d6-4dfc-a49e-18bbfb215fd9",
   "metadata": {},
   "source": [
    "O Colab or \"Colaboratório\", permite escrever e executar Python no seu browser\n",
    "- Sem necessidade de configuração\n",
    "- Com acesso gratuito a GPUs\n",
    "- Criação de ambiente de trabalho (Colab já inclui `numpy, pandas, matplotlib, etc`)\n",
    "- Para instalar as bibliotecas principais executamos o segunte codigo\n",
    "\n",
    "```bash\n",
    "!pip install xarray cartopy scipy rasterio requests\n",
    "```\n",
    "[⬆️ Voltar ao topo](#Objetivos-de-Aprendizagem)"
   ]
  },
  {
   "cell_type": "markdown",
   "id": "c8a61247",
   "metadata": {},
   "source": [
    "<div class=\"alert alert-warning\" role=\"alert\">\n",
    "\n",
    "⚠️ **Nota Importante**  \n",
    "O ambiente do Colab é **temporário**:  \n",
    "(i) Se não salvar uma cópia no Google Drive, todas as alterações serão **perdidas** ao reiniciar.  \n",
    "(ii) Sempre que reiniciar a sessão, **execute novamente a célula de instalação** para reinstalar as bibliotecas necessárias.\n",
    "</div>\n"
   ]
  },
  {
   "cell_type": "markdown",
   "id": "34493212",
   "metadata": {},
   "source": [
    "## Importar Bibliotecas\n",
    "\n",
    "- Em Python, as bibliotecas ficam disponíveis após serem importadas.\n",
    "- Uma das convenções utilizadas na importação é criar aliases, encurtando, assim, os nomes\n",
    "- Exemplo: `numpy` é comummente importado e atribuído a `np` durante a importação.\n",
    "\n",
    "```python\n",
    "import numpy as np\n",
    "import pandas as pd\n",
    "import matplotlib.pyplot as plt\n",
    "import xarray as xr\n",
    "import cartopy.crs as ccrs\n",
    "import scipy\n",
    "import rasterio\n",
    "import requests"
   ]
  },
  {
   "cell_type": "markdown",
   "id": "09e452d6",
   "metadata": {},
   "source": [
    "<div class=\"alert alert-info\" role=\"alert\">\n",
    "\n",
    "💡 **Dica**: \n",
    "- Se a biblioteca não estiver instalada:\n",
    "1. Em ambiente local (`Conda` ou `Miniforge`), use: <code>conda install nome_da_biblioteca</code>\n",
    "2. Em ambiente online (`Colab`), use: <code>!pip install nome_da_biblioteca</code>\n",
    "\n",
    "- Exemplos: \n",
    "1. `conda install xarray cartopy rasterio`\n",
    "2. `!pip install xarray cartopy rasterio`\n",
    "\n",
    "</div>"
   ]
  },
  {
   "cell_type": "markdown",
   "id": "6fbbaf1e-3c49-4f7b-93d1-028af33bf570",
   "metadata": {},
   "source": [
    "[⬆️ Voltar ao topo](#Objetivos-de-Aprendizagem)"
   ]
  },
  {
   "cell_type": "markdown",
   "id": "c01cf434",
   "metadata": {},
   "source": [
    "## Exercício\n",
    "1. Crie um ambiente Python usando **um dos métodos introduzidos**:\n",
    "- Local: `Conda` ou `Miniforge`\n",
    "- Online: `Google Colab`\n",
    "\n",
    "2. Instale as bibliotecas listadas abaixo no ambiente criado:\n",
    "```text\n",
    "numpy\n",
    "pandas\n",
    "matplotlib\n",
    "scipy\n",
    "xarray\n",
    "cartopy\n",
    "rasterio\n",
    "requests\n",
    "```\n",
    "\n",
    "3. Crie um arquivo com a lista de dependências (bibliotecas) instaladas no ambiente:\n",
    "- Local (Conda/Miniforge): `conda env export > environment.yml`\n",
    "- Online (Colab): `!pip freeze > requirements.txt`\n",
    "\n",
    "4. Submeta o arquivo criado (`environment.yml` ou `requirements.txt`) antes de da próxima secção.\n"
   ]
  },
  {
   "cell_type": "markdown",
   "id": "1575d784",
   "metadata": {},
   "source": [
    "<div class=\"alert alert-info\" role=\"alert\">\n",
    "💡 Dica:\n",
    "\n",
    "No Colab, e possivel baixar o arquivo `requirements.txt` fazendo:\n",
    "```Python\n",
    "from google.colab import files\n",
    "files.download('requirements.txt')\n",
    "```\n",
    "</div>"
   ]
  },
  {
   "cell_type": "markdown",
   "id": "2edb7c7b",
   "metadata": {},
   "source": [
    "## Recursos\n",
    "1. [Project Pythia](https://foundations.projectpythia.org/)"
   ]
  }
 ],
 "metadata": {
  "kernelspec": {
   "display_name": "tsr2025",
   "language": "python",
   "name": "python3"
  },
  "language_info": {
   "codemirror_mode": {
    "name": "ipython",
    "version": 3
   },
   "file_extension": ".py",
   "mimetype": "text/x-python",
   "name": "python",
   "nbconvert_exporter": "python",
   "pygments_lexer": "ipython3",
   "version": "3.11.13"
  }
 },
 "nbformat": 4,
 "nbformat_minor": 5
}
