{
 "cells": [
  {
   "cell_type": "markdown",
   "id": "d793b6c7-6705-464c-ad93-50e81df8dff1",
   "metadata": {},
   "source": [
    "\n",
    "<center>\n",
    "<img src='../imagens/terra.jpg' width='400px'/>\n",
    "<div style=\"font-size: 12px\"> Fonte: <a href=\"https://oceancolor.gsfc.nasa.gov/about/missions/\">NASA </a></div>\n",
    "\n",
    "# **Módulo 2: Fundamentos de Sensoriamento Remoto Aplicado aos Oceanos**\n",
    "\n",
    "</center>\n",
    "\n",
    "## Dia 1: Conceitos básicos de detecção remota: sensores, plataformas e tipos de resolução\n",
    "\n",
    "_**Autores:** Eligio Maure_\n",
    "\n",
    "---"
   ]
  },
  {
   "cell_type": "markdown",
   "id": "8f812a95",
   "metadata": {
    "vscode": {
     "languageId": "plaintext"
    }
   },
   "source": [
    "## Objetivos de Aprendizagem\n",
    "Ao terminar este notebook, você será capaz de:\n",
    "* Explicar os princípios básicos do sensoriamento remoto e identificar as suas vantagens e limitações;\n",
    "* Diferenciar os tipos de sensoriamento remoto (passivo vs. activo; óptico vs. micro-ondas); \n",
    "* Reconhecer os principais sensores e plataformas usados em oceanografia; e\n",
    "* Relacionar os diferentes tipos de resolução (espacial, espectral, temporal, radiométrica) com aplicações em estudos do oceano."
   ]
  },
  {
   "cell_type": "markdown",
   "id": "2d01d1f8",
   "metadata": {
    "vscode": {
     "languageId": "plaintext"
    }
   },
   "source": [
    "<a id=\"conteudos\"></a>\n",
    "\n",
    "## Conteúdos\n",
    "1. [Definição e Exemplos Práticos (Paralelos Naturais ↔ Artificiais)](#exemplos_practicos)\n",
    "2. [Princípios Básicos de Sensoriamento Remoto](#principios_sensoriamento_remoto)\n",
    "3. [Tipos de Sensoriamento Remoto (Passivo, Activo)](#tipos_sensores)\n",
    "4. [Tipos de Resolução (Espacial, Espectral, Temporal, Radiométrica)](#resolucao)\n",
    "5. [Sensores e Plataformas em Oceanografia](#sensores)\n",
    "6. [Vantagens e Limitações em Aplicações Oceânicas](#vantagens_limitacoes)"
   ]
  },
  {
   "cell_type": "markdown",
   "id": "d4b72e09",
   "metadata": {
    "vscode": {
     "languageId": "plaintext"
    }
   },
   "source": [
    "\n",
    "<!-- Download local -->\n",
    "<div style=\"display: flex; align-items: center;\">\n",
    "\t<a href=\"https://github.com/Elgyii/Treinamento-em-Sensoriamento-Remoto-Aplicado-ECOPs-2025/blob/main/modulo2/modulo2d1.ipynb\" download>\n",
    "\t\t<img src=\"http://yyahn.com/netsci-course/images/download_icon.png\"\n",
    "\t\t\t\t\tstyle=\"vertical-align: -8px; margin-right: 10px;\" />\n",
    "\t\t<strong>Baixar o notebook</strong>\n",
    "\t</a>\n",
    "</div>\n",
    "\n",
    "<!-- Abrir no Colab -->\n",
    "<div style=\"display: flex; align-items: center;\">\n",
    "\t<a target=\"_blank\"\n",
    "\t\t\thref=\"https://colab.research.google.com/github/Elgyii/Treinamento-em-Sensoriamento-Remoto-Aplicado-ECOPs-2025/blob/main/modulo2/modulo2d1.ipynb\">\n",
    "\t\t<img src=\"https://www.tensorflow.org/images/colab_logo_32px.png\"\n",
    "\t\t\t\t\tstyle=\"vertical-align: -8px; margin-right: 10px;\" />\n",
    "\t\t<strong>Abrir no Google Colab</strong>\n",
    "\t</a>\n",
    "</div>"
   ]
  },
  {
   "cell_type": "markdown",
   "id": "72c96abc",
   "metadata": {
    "vscode": {
     "languageId": "plaintext"
    }
   },
   "source": [
    "<a id=\"exemplos_practicos\"></a>\n",
    "\n",
    "## Definição e Exemplos Práticos\n",
    "<div class=\"alert alert-info\" style=\"border-radius:5px\" role=\"alert\">\n",
    "<strong>Sensoriamento remoto</strong> - capacidade de obter dados ou imagens de um objecto ou de uma superfície, através da captação e registo da energia reflectida ou emitida por um corpo ou uma superfície. O primeiro termo \"Sensoriamento\" geralmente é usado para indicar dados obtidos através de sensores instalados em plataformas terrestres, aéreas (balões e aeronaves) e/ou orbitais (satélites artificiais). \"Remoto\", relativo a distante, refere-se a obtenção feita à distância, ou seja, sem o contato físico entre o sensor e objecto de estudo.\n",
    "</div>"
   ]
  },
  {
   "cell_type": "markdown",
   "id": "2eff8f8d",
   "metadata": {
    "vscode": {
     "languageId": "plaintext"
    }
   },
   "source": [
    "<style>\n",
    "\ttable {\n",
    "\t\tfloat: left;\n",
    "\t}\n",
    "</style>"
   ]
  },
  {
   "cell_type": "markdown",
   "id": "1172b739",
   "metadata": {
    "vscode": {
     "languageId": "plaintext"
    }
   },
   "source": [
    "### Exemplos de Sensores Naturais e Artificiais (com paralelos)\n",
    "\n",
    "| Fenómeno/Energia Detectada | Sensor Natural | Sensor Artificial | Aplicação Oceânica |\n",
    "|:---------------------------|:---------------|:------------------|:-------------------|\n",
    "| Luz visível                | Olho humano    | Câmara fotográfica| Cor do oceano (ex. clorofila via sensores ópticos) |\n",
    "| Ondas sonoras              | Orelha         | Microfone/sonar/ecossonda | Detecção acústica em oceanografia (medição de correntes) |\n",
    "| Radiação infravermelha     | Pele           | Termómetro infravermelho | Temperatura da superfície do mar (SST) |\n",
    "| Partículas/compostos dissolvidos | Nariz       | Sensores químicos/de partículas/aerossóis | Detecção de aerossóis ou matéria particulada em suspensão (CDOM, sedimentos) |\n",
    "| Micro-ondas/Radar          | –              | Radar de Abertura Sintética (SAR)| Rugosidade da superfície do mar, ondas, vento (ex: Sentinel-1) |\n",
    "| **Completar 1**              | …              | …                                | …                                            |\n",
    "| **Completar 2**              | …              | …                                | …                                            |\n"
   ]
  },
  {
   "cell_type": "markdown",
   "id": "a92d5913",
   "metadata": {
    "vscode": {
     "languageId": "plaintext"
    }
   },
   "source": [
    "[⬆️ Voltar ao topo](#conteudos)"
   ]
  },
  {
   "cell_type": "markdown",
   "id": "8e94bb13",
   "metadata": {},
   "source": [
    "<a id=\"principios_sensoriamento_remoto\"></a>\n",
    "\n",
    "## Princípios Básicos de Sensoriamento Remoto\n",
    "<table style=\"border-style: hidden; border-collapse: collapse; vertical-align: top\">\n",
    "  <tr>\n",
    "    <th style=\"border-style: hidden; text-align: left\">Deteção Remota da Cor do Oceano</th>\n",
    "\t</tr>\n",
    "\t<tr>\n",
    "    <td style=\"border-style: hidden\">\n",
    "      <img src=\"../imagens/schematic1.png\" width=\"100%\" />\n",
    "\t\t</td>\n",
    "    <td style=\"border-style: hidden\">\n",
    "\t\t  <ul>\n",
    "        <li><strong>Sol</strong> – fonte de energia eletromagnética (luz)</li>\n",
    "        <li><strong>Ambiente Marinho</strong> – corpo ou superfície alvo</li>\n",
    "        <li><strong>Sensor Remoto</strong> – detector da energia emitida/reflectida</li>\n",
    "        <li><strong>Cores</strong> – diferentes faixas do espectro eletromagnético</li>\n",
    "        <li><strong>a<sub>w</sub></strong> – absorção devido à água do mar</li>\n",
    "        <li><strong>a<sub>d</sub></strong> – absorção devido a partículas suspensas e dissolvidas</li>\n",
    "        <li><strong>a<sub>Φ</sub></strong> – absorção devido ao fitoplâncton</li>\n",
    "        <li><strong>a<sub>bp</sub></strong> – reflexão</li>\n",
    "      </ul>\n",
    "    </td>\n",
    "\t</tr>\n",
    "\t<tr>\n",
    "\t\t<th style=\"border-style: hidden; text-align: left\">Absorção/Reflexão Electromagnética</th>\n",
    "\t</tr>\n",
    "\t<tr>\n",
    "    <td style=\"border-style: hidden\">\n",
    "      <img src=\"../imagens/schematic2.png\" width=\"100%\" />\n",
    "\t\t</td>\n",
    "\t\t<td style=\"border-style: hidden\">\n",
    "      <ul>\n",
    "        <li><strong>UV (< 400 nm)</strong> – Substâncias dissolvidas (absorção muito forte por detritos, sedimentos, fitoplâncton morto)</li>\n",
    "        <li><strong>~440 nm</strong> – Clorofila (fitoplâncton): Pico de absorção da clorofila</li>\n",
    "        <li><strong>~550 nm</strong> – Reflexão dominante da água (baixa biomassa)</li>\n",
    "        <li><strong>Vermelho/NIR (~600–700 nm)</strong> – Absorção da água aumenta</li>\n",
    "\t\t\t\t<li><strong>>700 nm</strong> – Absorção muito forte da água</li>\n",
    "      </ul>\n",
    "    </td>\n",
    "  </tr>\n",
    "  <tr>\n",
    "    <td colspan=\"2\" style=\"border-style: hidden; font-size: 12px\">Source: Eligio Maure</td>\n",
    "  </tr>\n",
    "</table>\n",
    "\n",
    "[⬆️ Voltar ao topo](#conteudos)"
   ]
  },
  {
   "cell_type": "markdown",
   "id": "5df33c44",
   "metadata": {
    "vscode": {
     "languageId": "plaintext"
    }
   },
   "source": [
    "<table style=\"border-style: hidden; border-collapse: collapse; vertical-align: top\">\n",
    "  <tr>\n",
    "    <th style=\"border-style: hidden; text-align: left\">Curva espectral da vegetação, da água e do solo</th>\n",
    "\t</tr>\n",
    "\t<tr>\n",
    "    <td style=\"border-style: hidden\">\n",
    "      <img src=\"../imagens/curva-espectral.png\" width=\"700px\" />\n",
    "\t\t</td>\n",
    "</tr>\n",
    "  <tr>\n",
    "    <td colspan=\"2\" style=\"border-style: hidden; font-size: 12px\">Fonte: <a href=\"https://konektacommerce.nyc3.cdn.digitaloceanspaces.com/TEXT_SAMPLE_CONTENT/iniciacao-em-sensoriamento-remoto-261862-1.pdf\">Fundamentos de Sensoriamento Remoto</a></td>\n",
    "  </tr>\n",
    "</table>\n",
    "\n"
   ]
  },
  {
   "cell_type": "markdown",
   "id": "58e658d4",
   "metadata": {
    "vscode": {
     "languageId": "plaintext"
    }
   },
   "source": [
    "<a id=\"tipos_sensores\"></a>\n",
    "\n",
    "## Tipos de Sensoriamento Remoto (Passivo, Activo)\n",
    "\n",
    "- **Passivo** - Baseado em sensores que dependem de fonte externa (Sol ou emissão natural da Terra);\n",
    "- **Activo** - Baseado em sensores que emitem a sua própria radiação e medem o retorno (radar, LIDAR).\n",
    "\n",
    "<img src=\"../imagens/active-passive-remote-sensing.png\" width=\"750px\" />\n",
    "<div style=\"font-size: 12px\"> Fonte: <a href=\"https://www.earthdata.nasa.gov/learn/earth-observation-data-basics/remote-sensing\">NASA </a></div>\n",
    "\n",
    "[⬆️ Voltar ao topo](#conteudos)"
   ]
  },
  {
   "cell_type": "markdown",
   "id": "b84ed981",
   "metadata": {
    "vscode": {
     "languageId": "plaintext"
    }
   },
   "source": [
    "<a id=\"resolucao\"></a>\n",
    "\n",
    "## Tipos de Resolução (Espacial, Espectral, Radiométrica e Temporal)\n",
    "### 1. Resolução Espacial\n",
    "<div class=\"alert alert-info\" style=\"border-radius:5px\" role=\"alert\">\n",
    "Boa parte de sensores passivos tem bandas com resolução espacial de 1 km (ex. <a href=\"https://oceancolor.gsfc.nasa.gov/about/missions/aqua/\">MODIS-Aqua</a>). Quanto maior for a resolução (menor o número nominal), mais detalhes da superficie observada serão obtidos. Na imagem abaixo, podemos ver a diferença na pixelização entre uma imagem de 30 m/pixel (imagem da esquerda), uma imagem de 100 m/pixel (imagem ao centro) e uma imagem de 300 m/pixel (imagem da direita).\n",
    "</div>\n",
    "<img src=\"../imagens/spatial_resolution.jpg\" width=\"750px\" />\n",
    "<div style=\"font-size: 12px\"> Fonte: <a href=\"https://www.earthdata.nasa.gov/learn/earth-observation-data-basics/remote-sensing\">NASA </a></div>\n",
    "\n",
    "\n",
    "[⬆️ Voltar ao topo](#conteudos)"
   ]
  },
  {
   "cell_type": "markdown",
   "id": "f514fcfe",
   "metadata": {
    "vscode": {
     "languageId": "plaintext"
    }
   },
   "source": [
    "### 2. Resolução Espectral\n",
    "<div class=\"alert alert-info\" style=\"border-radius:5px\" role=\"alert\">\n",
    "A <strong>resolução espectral</strong> representa a capacidade de um sensor distinguir diferentes comprimentos de onda (ou bandas) no espectro eletromagnético. Quanto maior for a capacidade de um sensor de distinguir comprimentos de onde sucessivos, mais informação podemos obter e mais amplas serão as suas áreas de aplicação. \n",
    "Normalmente, os sensores remotos multiespectrais têm 3 a 10 bandas espectrais como na figura abaixo.\n",
    "</div>\n",
    "\n",
    "<img src=\"../imagens/multi.png\" width=\"60%\"/>"
   ]
  },
  {
   "cell_type": "markdown",
   "id": "3b0e175e",
   "metadata": {
    "vscode": {
     "languageId": "plaintext"
    }
   },
   "source": [
    "Os <strong>sensores hiperespectrais</strong>, do outro lado, têm centenas de bandas espectrais, permitindo-nos examinar os objectos da Terra com mais detalhe.\n",
    "\n",
    "<img src=\"../imagens/hyper.png\" width=\"60%\"/>\n",
    "\n",
    "<div style=\"font-size: 12px\"> Fonte: <a href=\"https://worldbank.github.io/OpenNightLights/tutorials/mod1_1_introduction_to_remote_sensing.html\">WorldBank</a></div>\n",
    "\n",
    "[⬆️ Voltar ao topo](#conteudos)"
   ]
  },
  {
   "cell_type": "markdown",
   "id": "02612785",
   "metadata": {
    "vscode": {
     "languageId": "plaintext"
    }
   },
   "source": [
    "\n",
    "### 3. Resolução Radiométrica\n",
    "\n",
    "<div class=\"alert alert-info\" style=\"border-radius:5px\" role=\"alert\">\n",
    "A <strong>resolução radiométrica</strong> mede a quantidade de informação em cada pixel, ou seja, a capacidade de diferenciar entre pequenos níveis de intensidade da radiação eletromagnética refletida ou emitida em uma unidade de resolução espacial. \n",
    "</div>"
   ]
  },
  {
   "cell_type": "markdown",
   "id": "ed74aa6a",
   "metadata": {},
   "source": [
    "### 4. Resolução Temporal\n",
    "\n",
    "<div class=\"alert alert-info\" style=\"border-radius:5px\" role=\"alert\">\n",
    "A <strong>resolução temporal</strong> é o tempo que uma plataforma espacial demora a completar uma órbita e a revisitar a mesma área de observação. A resolução temporal depende da órbita, das características do instrumento e da largura de faixa. Como as plataformas geoestacionárias correspondem à taxa de rotação da Terra, a resolução temporal é muito mais precisa. As plataformas em órbita polar têm uma resolução temporal que pode variar de 1 a 16 dias. Por exemplo, o instrumento MODIS a bordo das plataformas Terra e Aqua da NASA tem uma resolução temporal de 1 a 2 dias, permitindo ao instrumento visualizar a Terra à medida que esta muda de dia para dia. O Operational Land Imager (OLI) a bordo da plataforma conjunta NASA/USGS Landsat 8, por outro lado, tem uma largura de faixa mais estreita e uma resolução temporal de 16 dias, o que significa que as imagens que adquire são melhores para mostrar alterações bimestrais.\n",
    "</div>\n",
    "<img src=\"../imagens/satellite_orbits.jpg\"/>\n",
    "<div style=\"font-size: 12px\"> Fonte: <a href=\"https://www.satnow.com/community/what-are-the-best-practices-for-optimizing-satellite-orbit-control\">SATNow</a></div>\n",
    "\n",
    "[⬆️ Voltar ao topo](#conteudos)"
   ]
  },
  {
   "cell_type": "markdown",
   "id": "dd34417a",
   "metadata": {
    "vscode": {
     "languageId": "plaintext"
    }
   },
   "source": [
    "<a id=\"sensores\"></a>\n",
    "\n",
    "## Sensores e Plataformas em Oceanografia\n",
    "\n",
    "A observação do oceano a partir do espaço utiliza diferentes tipos de sensores, cada um focado em variáveis específicas: cor, temperatura, salinidade, altura da superfície, rugosidade, etc.  \n",
    "Abaixo estão exemplos representativos (atuais e históricos):\n",
    "\n",
    "| Variável/Aplicação       | Sensor (Plataforma)                  | Agência/Missão     | Resolução Espacial/Temporal | Período |\n",
    "|----------------------------|---------------------------------------|----------------------|-------------------------------|---------|\n",
    "| **Cor do Oceano**          | **SeaWiFS** (OrbView-2)              | NASA                 | 1,1 km / diária               | 1997–2010 |\n",
    "|                            | **MODIS** (Terra/Aqua)               | NASA                 | 250–1000 m / diária           | 1999–atual |\n",
    "|                            | **OLCI** (Sentinel-3A/B)             | ESA/EUMETSAT         | ~300 m / global diária        | 2016–atual |\n",
    "|                            | **PACE OCI** (futuro hiperespectral) | NASA                 | ~1 km / global diária         | 2024–atual |\n",
    "| **Temperatura da Superfície do Mar (SST)** | **AVHRR** (NOAA)   | NOAA                 | ~1 km / diária                | 1978–atual |\n",
    "|                            | **SLSTR** (Sentinel-3)               | ESA/EUMETSAT         | ~1 km / global diária         | 2016–atual |\n",
    "|                            | **MODIS** (Aqua/Terra)               | NASA                 | 1 km / global diária          | 1999–atual |\n",
    "| **Salinidade da Superfície** | **SMOS** (ESA)                     | ESA                  | ~40 km / 3 dias               | 2009–atual |\n",
    "|                            | **Aquarius/SAC-D**                   | NASA/CONAE           | ~150 km / 7 dias              | 2011–2015 |\n",
    "|                            | **SMAP** (Soil Moisture Active Passive) | NASA              | ~40 km / 2–3 dias             | 2015–atual |\n",
    "| **Topografia do Mar (Altimetria)** | **TOPEX/Poseidon**          | NASA/CNES            | ~10 km (pista) / 10 dias      | 1992–2006 |\n",
    "|                            | **Jason-1/2/3**                      | NASA/CNES/NOAA       | ~10 km / 10 dias              | 2001–atual |\n",
    "|                            | **Sentinel-6 Michael Freilich**      | ESA/NASA/NOAA        | ~10 km / 10 dias              | 2020–atual |\n",
    "| **Radar de Abertura Sintética (SAR)** | **Sentinel-1A/B**       | ESA                  | 5–40 m / revisita 6–12 dias   | 2014–atual |\n",
    "|                            | **RADARSAT-1/2**                     | CSA (Canadá)         | 8–100 m / variável            | 1995–atual |\n",
    "| **Gravidade/Massa Oceânica** | **GRACE/GRACE-FO**             | NASA/DLR             | ~300 km / mensal              | 2002–atual |"
   ]
  },
  {
   "cell_type": "markdown",
   "id": "06308fe5",
   "metadata": {
    "vscode": {
     "languageId": "plaintext"
    }
   },
   "source": [
    "### Destaques\n",
    "\n",
    "- **Sentinel-3 (OLCI + SLSTR)** → plataforma multipropósito (cor + SST).  \n",
    "- **SeaWiFS** → marco histórico para séries temporais de clorofila.  \n",
    "- **SMAP/SMOS** → pioneiros em salinidade por micro-ondas.  \n",
    "- **Jason/Sentinel-6** → base da altimetria operacional e estudos de nível do mar.  \n",
    "- **Sentinel-1 SAR** → fundamental para ondas, gelo marinho e derrames de óleo.  \n",
    "\n",
    "**Fontes:** [IOCCG](https://ioccg.org/resources/missions-instruments/current-ocean-colour-sensors/)/[ESA](https://business.esa.int/newcomers-earth-observation-guide)/[NASA](https://www.earthdata.nasa.gov/learn/earth-observation-data-basics)  \n",
    "\n",
    "\n",
    "[⬆️ Voltar ao topo](#conteudos)"
   ]
  },
  {
   "cell_type": "markdown",
   "id": "715ff0b9",
   "metadata": {
    "vscode": {
     "languageId": "plaintext"
    }
   },
   "source": [
    "<a id=\"vantagens_limitacoes\"></a>\n",
    "\n",
    "## Vantagens e Limitações em Aplicações Oceânicas\n",
    "|Tipo de Sensor|Vantagens|Limitações|Aplicações Oceânicas|\n",
    "|:-------------|:--------|:---------|:-------------------|\n",
    "| Passivo | Cobertura global diária. Medição da cor do oceano, SST, aerossois  | Depende da luz solar. Obstruído por nuvens/fumaça. Baixa penetração na coluna de água | Ocean color (clorofila, CDOM, sedimentos); SST |\n",
    "| Activo | Funciona de dia/noite. Atravessa nuvens (SAR). Alta resolução espacial | Interpretação difícil. Limitado a variáveis de superfície | Radar (ondas, vento, rugosidade). Altímetros (nível do mar). LIDAR costeiro |\n",
    "\n",
    "[⬆️ Voltar ao topo](#conteudos)"
   ]
  },
  {
   "cell_type": "markdown",
   "id": "e5b85725",
   "metadata": {
    "vscode": {
     "languageId": "plaintext"
    }
   },
   "source": [
    "## Exercícios de Consolidação\n",
    "\n",
    "1. **Explique os princípios básicos usados no sensoriamento remoto.**\n",
    "\n",
    "   * Refira-se às fontes de energia (ex. Sol), interação com o meio (absorção, reflexão, espalhamento) e detecção por sensores.\n",
    "\n",
    "2. **Quais os tipos de sensoriamento remoto existentes?**\n",
    "\n",
    "   * Descreva os **passivos** e **ativos**, indicando vantagens, desvantagens e limitações.\n",
    "\n",
    "3. **Por que um único sensor não pode combinar todas as componentes de resolução (espacial, espectral, radiométrica, temporal)?**\n",
    "\n",
    "   * Reflita sobre os aspectos técnicos e limitações físicas.\n",
    "\n",
    "4. **Dê exemplos de plataformas e parâmetros usados no estudo de:**\n",
    "\n",
    "   * **Aumento do nível do mar** (ex. altímetros Jason, Sentinel-6);\n",
    "   * **Variação da biomassa global** (ex. sensores de cor do oceano: MODIS, OLCI, SeaWiFS);\n",
    "   * **Temperatura global** (ex. SLSTR, AVHRR, MODIS).\n",
    "\n",
    "5. **Qual a relação entre a resolução e os processos oceânicos?**\n",
    "\n",
    "   * Explique como diferentes escalas de resolução espacial, temporal ou espectral determinam quais fenômenos podem ser observados.\n",
    "   * Exemplos: \n",
    "\t - resolução espacial de 300 m para monitoramento de plumas costeiras; \n",
    "\t - resolução temporal diária para detectar marés internas ou variações rápidas de frentes; \n",
    "\t - resolução espectral alta para discriminar pigmentos fitoplanctônicos.\n",
    "\n",
    "<div class=\"alert alert-warning\" style=\"border-radius:5px\" role=\"alert\">\n",
    "Exercício de avaliação por submeter até as 23:59 do quinto (5) dia da semana 2.\n",
    "</div>"
   ]
  },
  {
   "cell_type": "markdown",
   "id": "2edb7c7b",
   "metadata": {},
   "source": [
    "## Alguns Recursos\n",
    "1. [IOCCG](https://ioccg.org/resources/missions-instruments/current-ocean-colour-sensors/)\n",
    "2. [ESA](https://business.esa.int/newcomers-earth-observation-guide)\n",
    "3. [NASA](https://www.earthdata.nasa.gov/learn/earth-observation-data-basics) \n",
    "4. [NASA ARSET](https://appliedsciences.nasa.gov/get-involved/training/english/arset-fundamentals-remote-sensing)\n",
    "4. [Ocean Optics Web Book](https://www.oceanopticsbook.info/)"
   ]
  }
 ],
 "metadata": {
  "kernelspec": {
   "display_name": "tsr2025",
   "language": "python",
   "name": "python3"
  },
  "language_info": {
   "codemirror_mode": {
    "name": "ipython",
    "version": 3
   },
   "file_extension": ".py",
   "mimetype": "text/x-python",
   "name": "python",
   "nbconvert_exporter": "python",
   "pygments_lexer": "ipython3",
   "version": "3.11.13"
  }
 },
 "nbformat": 4,
 "nbformat_minor": 5
}
